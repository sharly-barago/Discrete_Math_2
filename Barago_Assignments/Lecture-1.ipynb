{
 "cells": [
  {
   "cell_type": "markdown",
   "metadata": {},
   "source": [
    "$\\textbf{DISCRETE MATHEMATICS II || Lecture 1 Assignment}$\n",
    "\n",
    "<p>\n",
    "<b>Name: </b>Sharly Pia Rose S. Barago<br>\n",
    "<b>Program and Year: </b>BSCS - 1<br>\n",
    "<b>Date:</b> May 14, 2024\n",
    "</p>\n",
    "\n",
    "---"
   ]
  },
  {
   "cell_type": "markdown",
   "metadata": {},
   "source": [
    "### $\\textbf{Assignment}$\n",
    "\n",
    "Instructions:\n",
    "- Use latex.\n",
    "- Write your latex in jupyter notebook.\n",
    "- Push your answer to your github account.\n",
    "- Deadline is 2 weeks before finals.\n",
    "- Fail to submit 2 weeks before finals is an automatic 5.0 for this assignment.\n",
    "- Each problem is 25 points."
   ]
  },
  {
   "cell_type": "markdown",
   "metadata": {},
   "source": [
    "---"
   ]
  },
  {
   "cell_type": "markdown",
   "metadata": {},
   "source": [
    "### $\\textbf{Task 1}$\n",
    "\n",
    "Recall the definition of a rational number, denoted as $\\mathbb{Q}$. Prove that the Euler's number $e = \\Sigma_{k=0}^\\infty \\frac{1}{k!} \\notin \\mathbb{Q}$. A factorial is defined as $k! = (k)(k-1)(k-2)(k-3)..., \\forall k \\in \\mathbb{Z}^+$, note that $0! = 1$. Furthermore, a sum notation $\\Sigma_{k=0}^\\infty k = 0+ 1 + 2 + 3 +....+...$"
   ]
  },
  {
   "cell_type": "markdown",
   "metadata": {},
   "source": [
    "$\\textbf{Proof:}$\n"
   ]
  },
  {
   "cell_type": "markdown",
   "metadata": {},
   "source": [
    "We will prove that Euler's number $(e)$ is irrational using proof by contradiction.\n",
    "\n",
    "**Step-by-Step Proof:**\n",
    "\n",
    "**Step 1:**\n",
    "\n",
    "Suppose $e$ is rational. This means it can be expressed as the ratio of two integers $p$ and $q$, where $q \\neq 0$. So, $e = \\frac{p}{q}$.\n",
    "\n",
    "**Step 2:**\n",
    "\n",
    "Recall the definition of $e$ as the sum of the series $\\sum_{k=0}^\\infty \\frac{1}{k!}$:\n",
    "\n",
    "$$\n",
    "e = \\frac{1}{0!} + \\frac{1}{1!} + \\frac{1}{2!} + \\frac{1}{3!} + \\ldots\n",
    "$$\n",
    "\n",
    "**Step 3:**\n",
    "\n",
    "Let's consider the partial sum of the series for a positive integer $n$:\n",
    "\n",
    "$$\n",
    "S_n = \\frac{1}{0!} + \\frac{1}{1!} + \\frac{1}{2!} + \\frac{1}{3!} + \\ldots + \\frac{1}{n!}\n",
    "$$\n",
    "\n",
    "Since each term in the series is positive, $S_n$ is an increasing sequence bounded above by $e$. Therefore, as $n$ approaches infinity, $S_n$ converges to $e$.\n",
    "\n",
    "**Step 4:**\n",
    "\n",
    "Now, consider the number:\n",
    "\n",
    "$$\n",
    "q! \\cdot S_n = q! \\left(\\frac{1}{0!} + \\frac{1}{1!} + \\frac{1}{2!} + \\frac{1}{3!} + \\ldots + \\frac{1}{n!}\\right)\n",
    "$$\n",
    "\n",
    "**Step 5:**\n",
    "\n",
    "Expanding this expression:\n",
    "\n",
    "$$\n",
    "q! \\cdot S_n = q! + \\frac{q!}{1!} + \\frac{q!}{2!} + \\frac{q!}{3!} + \\ldots + \\frac{q!}{n!}\n",
    "$$\n",
    "\n",
    "**Step 6:**\n",
    "\n",
    "Every term in this expression is an integer. Since $S_n$ converges to $e$, we expect $q! \\cdot S_n$ to be very close to $q! \\cdot e = p$. This implies that $p - q! \\cdot S_n$ should be a very small positive integer.\n",
    "\n",
    "$$\n",
    "p - q! \\cdot S_n = p - (q! + \\frac{q!}{1!} + \\frac{q!}{2!} + \\frac{q!}{3!} + \\ldots + \\frac{q!}{n!})\n",
    "$$\n",
    "\n",
    "$$\n",
    "p - q! \\cdot S_n = p - q! - \\frac{q!}{1!} - \\frac{q!}{2!} - \\frac{q!}{3!} - \\ldots - \\frac{q!}{n!}\n",
    "$$\n",
    "\n",
    "**Step 7:**\n",
    "\n",
    "Each term in the parentheses is an integer, and each term in the summation is a fraction with a denominator greater than 1. Thus, $p - q! \\cdot S_n$ must be a non-zero positive integer.\n",
    "\n",
    "However, this contradicts the fact that $e = \\frac{p}{q}$ because $q! \\cdot S_n$ should be very close to $p$ but is not exactly equal to it. This leads to a contradiction.\n",
    "\n",
    "***Therefore, our initial assumption that $e$ is rational must be false.***\n"
   ]
  },
  {
   "cell_type": "markdown",
   "metadata": {},
   "source": [
    "---"
   ]
  },
  {
   "cell_type": "markdown",
   "metadata": {},
   "source": [
    "### $\\textbf{Task 2}$\n",
    "\n",
    "Prove Minkowski's Inequality for sums, $\\forall \\ p>1, (a_k, b_k)>0$:\n",
    "\\begin{gather}\n",
    "\\begin{bmatrix}\n",
    "\\Sigma_{k=1}^n |a_k + b_k|^p\n",
    "\\end{bmatrix}^\\frac{1}{p}\n",
    "\\leq\n",
    "\\begin{bmatrix}\n",
    "\\Sigma_{k=1}^n |a_k|^p\n",
    "\\end{bmatrix}^\\frac{1}{p}\n",
    "+\n",
    "\\begin{bmatrix}\n",
    "\\Sigma_{k=1}^n |b_k|^p\n",
    "\\end{bmatrix}^\\frac{1}{p}\n",
    "\\end{gather}"
   ]
  },
  {
   "cell_type": "markdown",
   "metadata": {},
   "source": [
    "$\\textbf{Proof:}$"
   ]
  },
  {
   "cell_type": "markdown",
   "metadata": {},
   "source": [
    "**Step 1:**\n",
    "\n",
    "\n",
    "We will prove Minkowski's inequality by utilizing the triangle inequality and some algebraic manipulations.\n",
    "\n",
    "**Step 2:**\n",
    "\n",
    "\n",
    "Consider the expression $|a_k + b_k|^p$. By the triangle inequality, we have $|a_k + b_k| \\leq |a_k| + |b_k|$ for all $k$.\n",
    "\n",
    "**Step 3:**\n",
    "\n",
    "\n",
    "Now, let's expand $|a_k + b_k|^p$ and bound it using the expanded form of $(|a_k| + |b_k|)^p$ This is justified because $x|^p$ is a convex function, so Jensen's inequality can be applied. This gives us:\n",
    "\n",
    "$$ |a_k + b_k|^p \\leq (|a_k| + |b_k|)^p $$\n",
    "\n",
    "**Step 4:**\n",
    "\n",
    "\n",
    "Next, we'll sum over $k$ and manipulate the resulting expression to arrive at the desired inequality.\n",
    "\n",
    "**Step 5:**\n",
    "\n",
    "\n",
    "We can now apply the Minkowski inequality for finite sums directly:\n",
    "\n",
    "$$ \\left( \\sum_{k=1}^n |a_k + b_k|^p \\right)^{\\frac{1}{p}} \\leq \\left( \\sum_{k=1}^n (|a_k| + |b_k|)^p \\right)^{\\frac{1}{p}} $$\n",
    "\n",
    "**Step 6:**\n",
    "\n",
    "\n",
    "Using the triangle inequality again, we can expand $(|a_k| + |b_k|)^p$ as $a_k|^p + |b_k|^p$ which yields:\n",
    "\n",
    "$$ \\left( \\sum_{k=1}^n |a_k + b_k|^p \\right)^{\\frac{1}{p}} \\leq \\left( \\sum_{k=1}^n |a_k|^p \\right)^{\\frac{1}{p}} + \\left( \\sum_{k=1}^n |b_k|^p \\right)^{\\frac{1}{p}} $$\n",
    "\n",
    "***Thus, we've established Minkowski's inequality for sums.***"
   ]
  },
  {
   "cell_type": "markdown",
   "metadata": {},
   "source": [
    "---"
   ]
  },
  {
   "cell_type": "markdown",
   "metadata": {},
   "source": [
    "### $\\textbf{Task 3}$\n",
    "\n",
    "Prove the triangle inequality $|x+y| \\leq |x| + |y|, \\forall (x,y) \\in \\mathbb{R}$"
   ]
  },
  {
   "cell_type": "markdown",
   "metadata": {},
   "source": [
    "$\\textbf{Proof:}$\n"
   ]
  },
  {
   "cell_type": "markdown",
   "metadata": {},
   "source": [
    "We'll consider two cases:\n",
    "\n",
    "1. When both $x$ and $y$ have the same sign.\n",
    "2. When $x$ and $y$ have opposite signs.\n",
    "\n",
    "Case 1: When both $x$ and $y$ have the same sign (positive or negative):\n",
    "\n",
    "Without loss of generality, let's assume both $x$ and $y$ are positive (the proof will be similar for negative $x$ and $y$). In this case, $|x| = x$ and $|y| = y$. Therefore, we have:\n",
    "\n",
    "$$ |x + y| = x + y $$\n",
    "\n",
    "Now, by the properties of real numbers, we know that $x + y \\geq x$, and $x + y \\geq y$. So, $x + y$ is greater than or equal to both $x$ and $y$. Thus, $x + y$ is greater than or equal to the maximum of $x$ and $y$. Therefore,\n",
    "\n",
    "$$ |x + y| = x + y \\leq |x| + |y| $$\n",
    "\n",
    "Case 2: When $x$ and $y$ have opposite signs:\n",
    "\n",
    "Without loss of generality, let's assume $x$ is positive and $y$ is negative. In this case, $|x| = x$ and $|y| = -y$. Therefore, we have:\n",
    "\n",
    "$$ |x + y| = |x - (-y)| = |x| - |y| = x - (-y) = x + y $$\n",
    "\n",
    "Again, by the properties of real numbers, we know that $x + y \\geq x$ and $x + y \\geq -y$. Thus, $x + y$ is greater than or equal to $x$ and the absolute value of $y$. So,\n",
    "\n",
    "$$ |x + y| = x + y \\leq |x| + |y| $$\n",
    "\n",
    "Combining both cases, we've shown that $|x + y| \\leq |x| + |y|$ for all real numbers $x$ and $y$. Thus, the triangle inequality holds true."
   ]
  },
  {
   "cell_type": "markdown",
   "metadata": {},
   "source": [
    "---"
   ]
  },
  {
   "cell_type": "markdown",
   "metadata": {},
   "source": [
    "### $\\textbf{Task 4}$\n",
    "\n",
    "Prove Sedrakayan's Lemma $\\forall u_i, v_i \\in \\mathbb{R}^+$:\n",
    "\\begin{gather}\n",
    "\\frac{(\\Sigma_{i=1}^n u_i)^2}{\\Sigma_{i=1}^n v_i}\n",
    "\\leq\n",
    "\\Sigma_{i=1}^n \\frac{(u_i)^2}{v_i}\n",
    "\\end{gather}"
   ]
  },
  {
   "cell_type": "markdown",
   "metadata": {},
   "source": [
    "$\\textbf{Proof:}$\n"
   ]
  },
  {
   "cell_type": "markdown",
   "metadata": {},
   "source": [
    "**Step 1:**\n",
    "\n",
    "To prove Sedrakyan's Lemma, we'll start with the Cauchy-Schwarz Inequality, which states that for any real numbers $a_i$ and $b_i$, $i = 1, 2, \\ldots, n$:\n",
    "\n",
    "$$ \\left( \\sum_{i=1}^{n} a_i b_i \\right)^2 \\leq \\left( \\sum_{i=1}^{n} a_i^2 \\right) \\left( \\sum_{i=1}^{n} b_i^2 \\right) $$\n",
    "\n",
    "**Step 2:**\n",
    "\n",
    "Now, let's choose $a_i = \\sqrt{v_i}$ and $b_i = \\sqrt{u_i}$, where $u_i, v_i \\in \\mathbb{R}^+$.\n",
    "\n",
    "**Step 3:**\n",
    "\n",
    "Applying Cauchy-Schwarz Inequality\n",
    "\n",
    "$$ \\left( \\sum_{i=1}^{n} \\sqrt{v_i} \\sqrt{u_i} \\right)^2 \\leq \\left( \\sum_{i=1}^{n} (\\sqrt{v_i})^2 \\right) \\left( \\sum_{i=1}^{n} (\\sqrt{u_i})^2 \\right) $$\n",
    "\n",
    "**Step 4:**\n",
    "\n",
    "Simplifying\n",
    "\n",
    "$$ \\left( \\sum_{i=1}^{n} u_i \\right)^2 \\leq \\left( \\sum_{i=1}^{n} v_i \\right) \\left( \\sum_{i=1}^{n} u_i^2 \\right) $$\n",
    "\n",
    "**Step 5:**\n",
    "\n",
    "Dividing both sides by $\\left( \\sum_{i=1}^{n} v_i \\right)$ (assuming $\\sum_{i=1}^{n} v_i \\neq 0$, as all $v_i$ are positive):\n",
    "\n",
    "$$ \\frac{\\left( \\sum_{i=1}^{n} u_i \\right)^2}{\\sum_{i=1}^{n} v_i} \\leq \\sum_{i=1}^{n} \\frac{u_i^2}{v_i} $$\n",
    "\n",
    "***This proves Sedrakyan's Lemma.***"
   ]
  },
  {
   "cell_type": "markdown",
   "metadata": {},
   "source": [
    "1. Consider the functions $f(x) = 2x+1$, $g(x)=2y-1$, $j(x) = |f(x)+g(x)|$, and $h(x) = j(x)^2$, show for the following inequality that:\n",
    "\n",
    "\\begin{gather}\n",
    "\\sqrt{|f(x)|^2} \\geq \\sqrt{h(x)} - \\sqrt{|g(x)|^2}, \\forall (x,y) \\in \\mathbb{Z}^+\n",
    "\\end{gather}"
   ]
  },
  {
   "cell_type": "markdown",
   "metadata": {},
   "source": [
    "$\\textbf{Proof:}$\n"
   ]
  },
  {
   "cell_type": "markdown",
   "metadata": {},
   "source": [
    "\n",
    "**Step 1:** \n",
    "\n",
    "We start by substituting the expressions for $ f(x) $, $ g(x) $, and $ h(x) $ into the given inequality:\n",
    "\n",
    "$$\n",
    "\\sqrt{\\left|f\\left(x\\right)\\right|^2} \\geq \\sqrt{\\left|f\\left(x\\right) + g\\left(x\\right)\\right|^2} - \\sqrt{\\left|g\\left(x\\right)\\right|^2}\n",
    "$$\n",
    "\n",
    "**Step 2:**\n",
    "\n",
    "By Minkowski's Inequality for sums, we have:\n",
    "\n",
    "$$\n",
    "\\left|f\\left(x\\right)\\right| \\geq \\left|f\\left(x\\right) + g\\left(x\\right)\\right| - \\left|g\\left(x\\right)\\right|\n",
    "$$\n",
    "\n",
    "**Step 3:** \n",
    "\n",
    "Transposing, we get:\n",
    "\n",
    "$$\n",
    "\\left|f\\left(x\\right)\\right| + \\left|g\\left(x\\right)\\right| \\geq \\left|f\\left(x\\right) + g\\left(x\\right)\\right|\n",
    "$$\n",
    "\n",
    "**Step 4:** \n",
    "\n",
    "Rearranging the terms, we obtain:\n",
    "\n",
    "$$\n",
    "\\left|f\\left(x\\right) + g\\left(x\\right)\\right| \\leq \\left|f\\left(x\\right)\\right| + \\left|g\\left(x\\right)\\right|\n",
    "$$\n",
    "\n",
    "**Step 5:** \n",
    "\n",
    "Proof with the case: $ f\\left(x\\right) > 0 $ and $ g\\left(x\\right) > 0 $, since $ \\forall (x,y) \\in \\mathbb{Z}^+ $\n",
    "\n",
    "Assume $ \\left|f\\left(x\\right) + g\\left(x\\right)\\right| = f\\left(x\\right) + g\\left(x\\right) $, and $ |x| = x $, $ |y| = y $.\n",
    "\n",
    "Substituting these assumptions, we get:\n",
    "\n",
    "$$\n",
    "\\left|f\\left(x\\right) + g\\left(x\\right)\\right| = f\\left(x\\right) + g\\left(x\\right) = \\left|f\\left(x\\right)\\right| + \\left|g\\left(x\\right)\\right|\n",
    "$$\n",
    "\n",
    "***Therefore, the inequality holds for all $ (x,y) \\in \\mathbb{Z}^+ $.***"
   ]
  },
  {
   "cell_type": "markdown",
   "metadata": {},
   "source": [
    "2. Prove Sedrakayan's Lemma if $u_i, v_i$ are square roots of an even integers:\n",
    "\\begin{gather}\n",
    "\\frac{(\\Sigma_{i=1}^n u_i)^2}{\\Sigma_{i=1}^n v_i}\n",
    "\\leq\n",
    "\\Sigma_{i=1}^n \\frac{(u_i)^2}{v_i}\n",
    "\\end{gather}"
   ]
  },
  {
   "cell_type": "markdown",
   "metadata": {},
   "source": [
    "$\\textbf{Proof:}$\n"
   ]
  },
  {
   "cell_type": "markdown",
   "metadata": {},
   "source": [
    "***Step 1:***\n",
    "\n",
    "Recall the Cauchy-Schwarz Inequality:\n",
    "\n",
    "$$ \\left( \\sum_{i=1}^n a_i b_i \\right)^2 \\leq \\left( \\sum_{i=1}^n a_i^2 \\right) \\left( \\sum_{i=1}^n b_i^2 \\right) $$\n",
    "\n",
    "This holds for all real numbers $ a_1, a_2, ..., a_n $ and $ b_1, b_2, ..., b_n $.\n",
    "\n",
    "***Step 2:***\n",
    "\n",
    "Substitute $ a_i = \\sqrt{v_i} $ and $ b_i = \\sqrt{u_i} $, where $ u_i, v_i $ are square roots of even integers:\n",
    "\n",
    "$$ \\left( \\sum_{i=1}^n \\sqrt{v_i} \\sqrt{u_i} \\right)^2 \\leq \\left( \\sum_{i=1}^n (\\sqrt{v_i})^2 \\right) \\left( \\sum_{i=1}^n (\\sqrt{u_i})^2 \\right) $$\n",
    "\n",
    "Simplify to get:\n",
    "\n",
    "$$ \\left( \\sum_{i=1}^n \\sqrt{u_i v_i} \\right)^2 \\leq \\left( \\sum_{i=1}^n v_i \\right) \\left( \\sum_{i=1}^n u_i \\right) $$\n",
    "\n",
    "***Step 3:***\n",
    "\n",
    "Divide both sides by $ \\left( \\sum_{i=1}^n v_i \\right) $:\n",
    "\n",
    "$$ \\frac{\\left( \\sum_{i=1}^n \\sqrt{u_i v_i} \\right)^2}{\\sum_{i=1}^n v_i} \\leq \\sum_{i=1}^n u_i $$\n",
    "\n",
    "***Step 4:***\n",
    "\n",
    "Since square roots of even integers are integers, $ u_i v_i $ is even, making $ \\sqrt{u_i v_i} $ an integer.\n",
    "\n",
    "***Step 5:***\n",
    "\n",
    "Rewrite the inequality using this property:\n",
    "\n",
    "$$ \\frac{\\left( \\sum_{i=1}^n u_i \\right)^2}{\\sum_{i=1}^n v_i} \\leq \\sum_{i=1}^n \\frac{u_i^2}{v_i} $$\n",
    "\n",
    "***Thus, Sedrakayan's Lemma is proven.***"
   ]
  }
 ],
 "metadata": {
  "language_info": {
   "name": "python"
  }
 },
 "nbformat": 4,
 "nbformat_minor": 2
}
